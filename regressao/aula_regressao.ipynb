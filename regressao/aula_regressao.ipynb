{
 "cells": [
  {
   "cell_type": "markdown",
   "metadata": {},
   "source": [
    "# Prevendo o preço de uma pizza de acordo com o seu diâmetro"
   ]
  },
  {
   "cell_type": "code",
   "execution_count": null,
   "metadata": {},
   "outputs": [],
   "source": [
    "import matplotlib.pyplot as plt\n",
    "import numpy as np\n",
    "%matplotlib inline\n",
    "\n",
    "# Diâmetros (cm)\n",
    "Diametros = np.array([7, 10, 15, 30, 45])\n",
    "\n",
    "# Preços (R$)\n",
    "Precos = np.array([8, 11, 16, 38.5, 52])"
   ]
  },
  {
   "cell_type": "code",
   "execution_count": null,
   "metadata": {},
   "outputs": [],
   "source": [
    "plt.figure()\n",
    "plt.xlabel('Diametro em cm')\n",
    "plt.ylabel('Preco em reais')\n",
    "plt.title('Preco X Diametro')\n",
    "plt.plot(Diametros,Precos,'o')\n",
    "plt.axis([0,60,0,60])\n",
    "plt.grid()\n",
    "plt.show()"
   ]
  },
  {
   "cell_type": "code",
   "execution_count": null,
   "metadata": {},
   "outputs": [],
   "source": [
    "from sklearn import linear_model"
   ]
  },
  {
   "cell_type": "code",
   "execution_count": null,
   "metadata": {},
   "outputs": [],
   "source": [
    "modelo_LR = linear_model.LinearRegression()"
   ]
  },
  {
   "cell_type": "code",
   "execution_count": null,
   "metadata": {},
   "outputs": [],
   "source": [
    "#Mudando o formato do array onde cada linha representa um exemplo\n",
    "Diametros = np.reshape(Diametros,(-1,1))\n",
    "\n",
    "modelo_LR.fit(Diametros,Precos)\n",
    "\n",
    "print('Equacao da reta ax + b')\n",
    "print('a = ' + str(modelo_LR.coef_))\n",
    "print('b = ' + str(modelo_LR.intercept_))"
   ]
  },
  {
   "cell_type": "code",
   "execution_count": null,
   "metadata": {},
   "outputs": [],
   "source": [
    "print('Diametros = ', Diametros.reshape(1,-1))\n",
    "print('Preços = ', Precos)\n",
    "print('Preditos = ', modelo_LR.predict(Diametros))"
   ]
  },
  {
   "cell_type": "code",
   "execution_count": null,
   "metadata": {},
   "outputs": [],
   "source": [
    "from sklearn.metrics import mean_squared_error\n",
    "print(\"Mean squared error = \", mean_squared_error(Precos,modelo_LR.predict(Diametros)))"
   ]
  },
  {
   "cell_type": "markdown",
   "metadata": {},
   "source": [
    "### Exercicio\n",
    "\n",
    "Calcule o erro médio quadrado obtido pelo modelo treinado e compare com o obtido pela função mean_squared_error.\n",
    "\n",
    "O erro médio quadrado é calculado como <img src=\"mse.png\" alt=\"Drawing\" width=\"150\"/>"
   ]
  },
  {
   "cell_type": "code",
   "execution_count": null,
   "metadata": {},
   "outputs": [],
   "source": []
  },
  {
   "cell_type": "markdown",
   "metadata": {},
   "source": [
    "# A Linha em laranja representa os valores preditos pelo modelo treinado"
   ]
  },
  {
   "cell_type": "code",
   "execution_count": null,
   "metadata": {},
   "outputs": [],
   "source": [
    "plt.figure()\n",
    "plt.xlabel('Diametro em cm')\n",
    "plt.ylabel('Preco em reais')\n",
    "plt.title('Preco X Diametro')\n",
    "plt.plot(Diametros,Precos,'o')\n",
    "plt.plot(Diametros,modelo_LR.predict(Diametros),linewidth=3)\n",
    "plt.axis([0,60,0,60])\n",
    "plt.grid()\n",
    "plt.show()"
   ]
  },
  {
   "cell_type": "markdown",
   "metadata": {},
   "source": [
    "# Treinando um modelo de regressão polinomial"
   ]
  },
  {
   "cell_type": "code",
   "execution_count": null,
   "metadata": {},
   "outputs": [],
   "source": [
    "from sklearn.linear_model import Ridge\n",
    "from sklearn.preprocessing import PolynomialFeatures\n",
    "from sklearn.pipeline import make_pipeline\n",
    "\n",
    "degree = 3\n",
    "\n",
    "modelo_polinomial = make_pipeline(PolynomialFeatures(degree), Ridge())\n",
    "modelo_polinomial.fit(Diametros, Precos)\n",
    "\n",
    "print(\"Mean squared error = \", mean_squared_error(Precos,modelo_polinomial.predict(Diametros)))"
   ]
  },
  {
   "cell_type": "code",
   "execution_count": null,
   "metadata": {},
   "outputs": [],
   "source": [
    "plt.figure()\n",
    "plt.xlabel('Diametro em cm')\n",
    "plt.ylabel('Preco em reais')\n",
    "plt.title('Preco X Diametro')\n",
    "plt.plot(Diametros,Precos,'o')\n",
    "plt.plot(Diametros,modelo_polinomial.predict(Diametros),linewidth=3)\n",
    "plt.axis([0,60,0,60])\n",
    "plt.grid()\n",
    "plt.show()"
   ]
  },
  {
   "cell_type": "markdown",
   "metadata": {},
   "source": [
    "# Regressão para a estimação do preço de casas utilizando o Dataset Boston Housing"
   ]
  },
  {
   "cell_type": "code",
   "execution_count": null,
   "metadata": {},
   "outputs": [],
   "source": [
    "# O dataset boston já está disponível no scikit-learn. Precisamos apenas carregá-lo.\n",
    "from sklearn.datasets import load_boston\n",
    "boston = load_boston()"
   ]
  },
  {
   "cell_type": "code",
   "execution_count": null,
   "metadata": {},
   "outputs": [],
   "source": [
    "print(boston.DESCR)"
   ]
  },
  {
   "cell_type": "code",
   "execution_count": null,
   "metadata": {},
   "outputs": [],
   "source": [
    "boston.feature_names"
   ]
  },
  {
   "cell_type": "code",
   "execution_count": null,
   "metadata": {},
   "outputs": [],
   "source": [
    "import pandas as pd\n",
    "\n",
    "# Convertendo o dataset em um DataFrame pandas\n",
    "atributos_casas = pd.DataFrame(boston.data)\n",
    "atributos_casas.head()"
   ]
  },
  {
   "cell_type": "code",
   "execution_count": null,
   "metadata": {},
   "outputs": [],
   "source": [
    "# Convertendo o título das colunas\n",
    "atributos_casas.columns = boston.feature_names\n",
    "atributos_casas.head()"
   ]
  },
  {
   "cell_type": "code",
   "execution_count": null,
   "metadata": {},
   "outputs": [],
   "source": [
    "# Pegando os precos das casas\n",
    "preco_casas = pd.DataFrame(boston.target)"
   ]
  },
  {
   "cell_type": "markdown",
   "metadata": {},
   "source": [
    "### Exercício\n",
    "\n",
    "Utilizando a base Boston Housing, treine um modelo de regressão linear para predizer o preço das casas e calcule o MSE obtido. Em seguida, treine um modelo de regressão polinomial e calcule o MSE obtido. "
   ]
  },
  {
   "cell_type": "markdown",
   "metadata": {},
   "source": [
    "# Modelo de regressão linear"
   ]
  },
  {
   "cell_type": "code",
   "execution_count": null,
   "metadata": {},
   "outputs": [],
   "source": []
  },
  {
   "cell_type": "markdown",
   "metadata": {},
   "source": [
    "# Utilizando o modelo de regressão polinomial"
   ]
  },
  {
   "cell_type": "code",
   "execution_count": null,
   "metadata": {},
   "outputs": [],
   "source": []
  },
  {
   "cell_type": "markdown",
   "metadata": {},
   "source": [
    "# Plotando os preços das casas e os preços preditos"
   ]
  },
  {
   "cell_type": "code",
   "execution_count": null,
   "metadata": {},
   "outputs": [],
   "source": [
    "quant_casas = 20\n",
    "plt.title(\"Preço original X Preço Predito com regressão linear\")\n",
    "plt.plot(modelo_linear_regression_casas.predict(atributos_casas[0:quant_casas]),'bo')\n",
    "plt.plot(preco_casas[0:quant_casas],'go')\n",
    "plt.axis([-1,quant_casas,0,40])\n",
    "plt.ylabel('Preço')\n",
    "plt.xlabel('Casa')\n",
    "plt.show()"
   ]
  },
  {
   "cell_type": "code",
   "execution_count": null,
   "metadata": {},
   "outputs": [],
   "source": [
    "quant_casas = 20\n",
    "plt.title(\"Preço original X Preço Predito com Regressão Polinomial\")\n",
    "plt.plot(modelo_polinomial_casas.predict(atributos_casas[0:quant_casas]),'bo')\n",
    "plt.plot(preco_casas[0:quant_casas],'go')\n",
    "plt.axis([-1,quant_casas,0,40])\n",
    "plt.ylabel('Preço')\n",
    "plt.xlabel('Casa')\n",
    "plt.show()"
   ]
  },
  {
   "cell_type": "markdown",
   "metadata": {},
   "source": [
    "# Separando em conjunto de treino e teste"
   ]
  },
  {
   "cell_type": "code",
   "execution_count": null,
   "metadata": {},
   "outputs": [],
   "source": [
    "from sklearn.model_selection import train_test_split\n",
    "\n",
    "X_treino, X_teste, y_treino, y_teste = train_test_split(atributos_casas, preco_casas, test_size=0.33)\n",
    "\n",
    "print('Tamanho conjunto de treino: ', X_treino.shape)\n",
    "print('Tamanho conjunto de teste: ', X_teste.shape)"
   ]
  },
  {
   "cell_type": "markdown",
   "metadata": {},
   "source": [
    "### Exercicio\n",
    "\n",
    "Treine os modelos de regressão linear e polinomial utilizando o conjunto de treino, em seguida calcule o MSE obtido para esses modelos utilizando o conjunto de teste. \n",
    "\n",
    "Como foram os resultados em comparação com os obtidos utilizando o mesmo conjunto de dados para treinar e testar os modelos?  \n"
   ]
  },
  {
   "cell_type": "markdown",
   "metadata": {},
   "source": [
    "# Modelo de regressão linear"
   ]
  },
  {
   "cell_type": "code",
   "execution_count": null,
   "metadata": {},
   "outputs": [],
   "source": []
  },
  {
   "cell_type": "markdown",
   "metadata": {},
   "source": [
    "# Utilizando o modelo de regressão polinomial"
   ]
  },
  {
   "cell_type": "code",
   "execution_count": null,
   "metadata": {},
   "outputs": [],
   "source": []
  }
 ],
 "metadata": {
  "anaconda-cloud": {},
  "kernelspec": {
   "display_name": "Python [default]",
   "language": "python",
   "name": "python3"
  },
  "language_info": {
   "codemirror_mode": {
    "name": "ipython",
    "version": 3
   },
   "file_extension": ".py",
   "mimetype": "text/x-python",
   "name": "python",
   "nbconvert_exporter": "python",
   "pygments_lexer": "ipython3",
   "version": "3.5.6"
  }
 },
 "nbformat": 4,
 "nbformat_minor": 2
}
